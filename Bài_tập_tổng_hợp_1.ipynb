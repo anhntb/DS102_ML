{
  "cells": [
    {
      "cell_type": "markdown",
      "metadata": {
        "id": "view-in-github",
        "colab_type": "text"
      },
      "source": [
        "<a href=\"https://colab.research.google.com/github/anhntb/DS102_ML/blob/main/B%C3%A0i_t%E1%BA%ADp_t%E1%BB%95ng_h%E1%BB%A3p_1.ipynb\" target=\"_parent\"><img src=\"https://colab.research.google.com/assets/colab-badge.svg\" alt=\"Open In Colab\"/></a>"
      ]
    },
    {
      "cell_type": "code",
      "execution_count": null,
      "id": "9b10cdb7-2b11-4c74-bd8b-a33c07e808c8",
      "metadata": {
        "id": "9b10cdb7-2b11-4c74-bd8b-a33c07e808c8"
      },
      "outputs": [],
      "source": [
        "import pandas as pd\n",
        "import numpy as np"
      ]
    },
    {
      "cell_type": "code",
      "execution_count": null,
      "id": "9d72ae99-7996-4684-bddd-e93caf187634",
      "metadata": {
        "colab": {
          "base_uri": "https://localhost:8080/"
        },
        "id": "9d72ae99-7996-4684-bddd-e93caf187634",
        "outputId": "d151e5fa-0f4c-498b-83cd-004b4cd652b0"
      },
      "outputs": [
        {
          "output_type": "stream",
          "name": "stdout",
          "text": [
            " Observation  Age  Expenditures\n",
            "           1   49            95\n",
            "           2   15           104\n",
            "           3   43            91\n",
            "           4   45            98\n",
            "           5   40            94\n",
            "           6   35           107\n",
            "           7   42            96\n",
            "           8   38           108\n",
            "           9   46            98\n",
            "          10   30           108\n",
            "          11   52           101\n",
            "          12   55            89\n",
            "          13   42            96\n",
            "          14   25           105\n",
            "          15   35           107\n",
            "          16   35           106\n",
            "          17   35           105\n",
            "          18   27           105\n",
            "          19   48            97\n",
            "          20   37           109\n",
            "          21   45            94\n",
            "          22   19           103\n",
            "          23   57           103\n",
            "          24   55            94\n",
            "          25   34           108\n",
            "          26   39           108\n"
          ]
        }
      ],
      "source": [
        "# Bộ dữ liệu mô phỏng về chi tiêu kỳ nghỉ của 26 khách hàng.\n",
        "# Observation: số thứ tự được gán cho mỗi khách hàng, từ 1 đến 26\n",
        "# Age: tuổi của khách hàng (tính bằng năm)\n",
        "# Expenditures: chi tiêu trung bình hàng ngày trong kỳ nghỉ\n",
        "df_1 = pd.DataFrame({\n",
        "    \"Observation\": list(range(1, 27)),\n",
        "    \"Age\": [49, 15, 43, 45, 40, 35, 42, 38, 46, 30, 52, 55, 42, 25, 35, 35, 35, 27, 48, 37, 45, 19, 57, 55, 34, 39],\n",
        "    \"Expenditures\": [95, 104, 91, 98, 94, 107, 96, 108, 98, 108, 101, 89, 96, 105, 107, 106, 105, 105, 97, 109, 94, 103, 103, 94, 108, 108]\n",
        "})\n",
        "print(df_1.to_string(index=False))"
      ]
    },
    {
      "cell_type": "markdown",
      "id": "56d4df0d-1e8e-469c-912b-6e33c8b34375",
      "metadata": {
        "id": "56d4df0d-1e8e-469c-912b-6e33c8b34375"
      },
      "source": [
        "#### Bài tập 1:\n",
        "\n",
        "#### Bộ dữ liệu `df_1` là một bộ dữ liệu mô phỏng về chi tiêu kỳ nghỉ của 26 khách hàng. Bộ dữ liệu bao gồm các quan sát về tuổi của khách hàng và chi tiêu trung bình hàng ngày trong kỳ nghỉ.\n",
        "\n",
        "(a) Vẽ hai biểu đồ `histogram`, một cho \"chi tiêu\" (`Expenditures`) và một cho \"tuổi\" (`Age`). Đồng thời, tạo biểu đồ phân tán (`scatter diagram`) với \"chi tiêu\" trên trục tung và \"tuổi\" trên trục hoành.\n",
        "\n",
        "(b) Đề xuất một phương pháp phân tích bộ dữ liệu này để hỗ trợ công ty du lịch đưa ra các đề xuất phù hợp cho khách hàng trong tương lai.\n",
        "\n",
        "#### Biểu đồ phân tán có thể chỉ ra sự khác biệt giữa các nhóm khách hàng. Nhóm khách hàng trẻ tuổi có thể chi tiêu nhiều hơn so với nhóm khách hàng lớn tuổi. Chi tiêu có xu hướng tăng theo độ tuổi đối với nhóm khách hàng trẻ, trong khi xu hướng này ít rõ ràng hơn đối với nhóm khách hàng lớn tuổi.\n",
        "\n",
        "(c) Tính giá trị trung bình mẫu của \"chi tiêu\" của tất cả 26 khách hàng.\n",
        "\n",
        "(d) Tính hai giá trị trung bình mẫu của \"chi tiêu\": một cho nhóm khách hàng có độ tuổi từ 40 trở lên và một cho nhóm khách hàng có độ tuổi dưới 40.\n",
        "\n",
        "(e) Bạn sẽ dự đoán chi tiêu hàng ngày cho một khách hàng mới 50 tuổi là bao nhiêu? Và cho một khách hàng 25 tuổi thì sao?"
      ]
    },
    {
      "cell_type": "markdown",
      "source": [
        "**Câu a**"
      ],
      "metadata": {
        "id": "ZhZMwr0JoA_3"
      },
      "id": "ZhZMwr0JoA_3"
    },
    {
      "cell_type": "code",
      "source": [
        "import matplotlib.pyplot as plt"
      ],
      "metadata": {
        "id": "3jNLSABdqO9P"
      },
      "id": "3jNLSABdqO9P",
      "execution_count": null,
      "outputs": []
    },
    {
      "cell_type": "code",
      "source": [
        "# Histogram cho chi tiêu\n",
        "plt.hist(df_1[\"Expenditures\"], bins=8, color='blue', edgecolor='black')\n",
        "plt.xlabel(\"Expenditures\")\n",
        "plt.ylabel(\"Frequency\")"
      ],
      "metadata": {
        "colab": {
          "base_uri": "https://localhost:8080/",
          "height": 466
        },
        "id": "tTYq94x2o4U2",
        "outputId": "04652444-5352-48e5-8bcd-4a742974956e"
      },
      "id": "tTYq94x2o4U2",
      "execution_count": null,
      "outputs": [
        {
          "output_type": "execute_result",
          "data": {
            "text/plain": [
              "Text(0, 0.5, 'Frequency')"
            ]
          },
          "metadata": {},
          "execution_count": 13
        },
        {
          "output_type": "display_data",
          "data": {
            "text/plain": [
              "<Figure size 640x480 with 1 Axes>"
            ],
            "image/png": "[encoded data removed]"
          },
          "metadata": {}
        }
      ]
    },
    {
      "cell_type": "code",
      "source": [
        "# Histogram cho tuổi\n",
        "plt.hist(df_1[\"Age\"], bins=8, color='lightgreen', edgecolor='black')\n",
        "plt.xlabel(\"Age\")\n",
        "plt.ylabel(\"Frequency\")"
      ],
      "metadata": {
        "colab": {
          "base_uri": "https://localhost:8080/",
          "height": 466
        },
        "id": "7Lu1PjgopKJd",
        "outputId": "f52530f4-d706-46e4-ecbb-8dcd1928f450"
      },
      "id": "7Lu1PjgopKJd",
      "execution_count": null,
      "outputs": [
        {
          "output_type": "execute_result",
          "data": {
            "text/plain": [
              "Text(0, 0.5, 'Frequency')"
            ]
          },
          "metadata": {},
          "execution_count": 12
        },
        {
          "output_type": "display_data",
          "data": {
            "text/plain": [
              "<Figure size 640x480 with 1 Axes>"
            ],
            "image/png": "[encoded data removed]"
          },
          "metadata": {}
        }
      ]
    },
    {
      "cell_type": "code",
      "source": [
        "# Biểu đồ phân tán (scatter diagram) với \"chi tiêu\" trên trục tung và \"tuổi\" trên trục hoành\n",
        "plt.scatter(df_1[\"Age\"], df_1[\"Expenditures\"], color='purple')\n",
        "plt.xlabel(\"Age\")\n",
        "plt.ylabel(\"Expenditures\")"
      ],
      "metadata": {
        "colab": {
          "base_uri": "https://localhost:8080/",
          "height": 472
        },
        "id": "omGkIeDcrNYu",
        "outputId": "2279fe9b-b3c1-4200-fc8b-ec9f036c31d9"
      },
      "id": "omGkIeDcrNYu",
      "execution_count": null,
      "outputs": [
        {
          "output_type": "execute_result",
          "data": {
            "text/plain": [
              "Text(0, 0.5, 'Expenditures')"
            ]
          },
          "metadata": {},
          "execution_count": 14
        },
        {
          "output_type": "display_data",
          "data": {
            "text/plain": [
              "<Figure size 640x480 with 1 Axes>"
            ],
            "image/png": "[encoded data removed]"
          },
          "metadata": {}
        }
      ]
    },
    {
      "cell_type": "markdown",
      "source": [
        "**Câu b:** Phương pháp phân tích bộ dữ liệu này để hỗ trợ công ty du lịch đưa ra các đề xuất phù hợp cho khách hàng:\n",
        "\n",
        "Phân tích hồi quy (Regression Analysis)\n",
        "* Kiểm tra xem có mối quan hệ giữa độ tuổi và chi tiêu hay không, giúp dự đoán chi tiêu trung bình hàng ngày của khách hàng dựa vào độ tuổi.\n",
        "* Biết được hệ số hồi quy, giao điểm với trục tung, và các chỉ số đánh giá mô hình. Đường hồi quy sẽ cho thấy xu hướng chung về mối quan hệ giữa tuổi và chi tiêu."
      ],
      "metadata": {
        "id": "NjMEqBjxspjO"
      },
      "id": "NjMEqBjxspjO"
    },
    {
      "cell_type": "code",
      "source": [
        "import seaborn as sns\n",
        "from sklearn.linear_model import LinearRegression\n",
        "from sklearn.metrics import mean_squared_error, r2_score"
      ],
      "metadata": {
        "id": "ygPXW1I_tSA2"
      },
      "id": "ygPXW1I_tSA2",
      "execution_count": null,
      "outputs": []
    },
    {
      "cell_type": "code",
      "source": [
        "X = df_1[\"Age\"].values.reshape(-1, 1)  # Biến độc lập (tuổi)\n",
        "y = df_1[\"Expenditures\"].values        # Biến phụ thuộc (chi tiêu)\n",
        "\n",
        "# Huấn luyện mô hình\n",
        "model = LinearRegression()\n",
        "model.fit(X, y)\n",
        "\n",
        "# Dự đoán chi tiêu dựa trên tuổi\n",
        "y_pred = model.predict(X)\n",
        "\n",
        "# Tính các chỉ số đánh giá mô hình\n",
        "r2 = r2_score(y, y_pred)\n",
        "mse = mean_squared_error(y, y_pred)\n",
        "\n",
        "print(f\"Hệ số hồi quy (Slope): {model.coef_[0]}\")\n",
        "print(f\"Intercept (Giao điểm với trục tung): {model.intercept_}\")\n",
        "print(f\"Hệ số xác định R²: {r2}\")\n",
        "print(f\"Mean Squared Error (MSE): {mse}\")\n",
        "\n",
        "# Biểu đồ phân tán và đường hồi quy\n",
        "plt.scatter(df_1[\"Age\"], df_1[\"Expenditures\"], color='blue')\n",
        "plt.plot(df_1[\"Age\"], y_pred, color='red', label=\"Regression Line\")\n",
        "plt.xlabel(\"Age\")\n",
        "plt.ylabel(\"Expenditures\")\n",
        "plt.legend()\n",
        "plt.show()"
      ],
      "metadata": {
        "colab": {
          "base_uri": "https://localhost:8080/",
          "height": 520
        },
        "id": "utPGYHQ7tYt3",
        "outputId": "5d8aac97-6c05-4403-d7a4-deba70a250d0"
      },
      "id": "utPGYHQ7tYt3",
      "execution_count": null,
      "outputs": [
        {
          "output_type": "stream",
          "name": "stdout",
          "text": [
            "Hệ số hồi quy (Slope): -0.33359609660627654\n",
            "Intercept (Giao điểm với trục tung): 114.24110795493158\n",
            "Hệ số xác định R²: 0.3376682003876883\n",
            "Mean Squared Error (MSE): 23.75870385917004\n"
          ]
        },
        {
          "output_type": "display_data",
          "data": {
            "text/plain": [
              "<Figure size 640x480 with 1 Axes>"
            ],
            "image/png": "[encoded data removed]"
          },
          "metadata": {}
        }
      ]
    },
    {
      "cell_type": "markdown",
      "source": [
        "**Câu c**"
      ],
      "metadata": {
        "id": "iH8osaOzu8To"
      },
      "id": "iH8osaOzu8To"
    },
    {
      "cell_type": "code",
      "source": [
        "# Giá trị trung bình mẫu của \"chi tiêu\"\n",
        "mean_expenditures = df_1[\"Expenditures\"].mean()\n",
        "mean_expenditures"
      ],
      "metadata": {
        "colab": {
          "base_uri": "https://localhost:8080/"
        },
        "id": "liET1pOvvJU9",
        "outputId": "0681cf1b-361f-4121-8db3-7ad11f0b2c53"
      },
      "id": "liET1pOvvJU9",
      "execution_count": null,
      "outputs": [
        {
          "output_type": "execute_result",
          "data": {
            "text/plain": [
              "101.11538461538461"
            ]
          },
          "metadata": {},
          "execution_count": 19
        }
      ]
    },
    {
      "cell_type": "markdown",
      "source": [
        "**Câu d**"
      ],
      "metadata": {
        "id": "u7MIF6OkvyTs"
      },
      "id": "u7MIF6OkvyTs"
    },
    {
      "cell_type": "code",
      "source": [
        "# Chia bộ dữ liệu thành hai nhóm: khách hàng từ 40 tuổi trở lên và dưới 40 tuổi\n",
        "group_age_40_and_above = df_1[df_1[\"Age\"] >= 40]\n",
        "group_age_below_40 = df_1[df_1[\"Age\"] < 40]\n",
        "\n",
        "# Tính giá trị trung bình mẫu của \"chi tiêu\" cho từng nhóm\n",
        "mean_expenditures_40_and_above = group_age_40_and_above[\"Expenditures\"].mean()\n",
        "mean_expenditures_below_40 = group_age_below_40[\"Expenditures\"].mean()\n",
        "\n",
        "mean_expenditures_40_and_above, mean_expenditures_below_40"
      ],
      "metadata": {
        "colab": {
          "base_uri": "https://localhost:8080/"
        },
        "id": "PIYKtwQYvqWe",
        "outputId": "1752e5bd-21e9-4436-b0a0-e8640dc35216"
      },
      "id": "PIYKtwQYvqWe",
      "execution_count": null,
      "outputs": [
        {
          "output_type": "execute_result",
          "data": {
            "text/plain": [
              "(95.84615384615384, 106.38461538461539)"
            ]
          },
          "metadata": {},
          "execution_count": 20
        }
      ]
    },
    {
      "cell_type": "markdown",
      "source": [
        "**Câu e** Bạn sẽ dự đoán chi tiêu hàng ngày cho một khách hàng mới 50 tuổi là bao nhiêu? Và cho một khách hàng 25 tuổi thì sao?"
      ],
      "metadata": {
        "id": "LjgLUCo1wVmH"
      },
      "id": "LjgLUCo1wVmH"
    },
    {
      "cell_type": "code",
      "source": [
        "age_50 = 50\n",
        "age_25 = 25\n",
        "\n",
        "# Sử dụng mô hình để dự đoán\n",
        "expenditure_50 = model.coef_[0] * age_50 + model.intercept_\n",
        "expenditure_25 = model.coef_[0] * age_25 + model.intercept_\n",
        "\n",
        "expenditure_50, expenditure_25"
      ],
      "metadata": {
        "colab": {
          "base_uri": "https://localhost:8080/"
        },
        "id": "a5xsw2eDwPQE",
        "outputId": "16100e4f-2349-4df8-cceb-e3e666a5a0ee"
      },
      "id": "a5xsw2eDwPQE",
      "execution_count": null,
      "outputs": [
        {
          "output_type": "execute_result",
          "data": {
            "text/plain": [
              "(97.56130312461775, 105.90120553977466)"
            ]
          },
          "metadata": {},
          "execution_count": 21
        }
      ]
    },
    {
      "cell_type": "markdown",
      "id": "2dbff13c-c736-4348-906d-f17338bb0038",
      "metadata": {
        "id": "2dbff13c-c736-4348-906d-f17338bb0038"
      },
      "source": [
        "#### Bài tập 2:\n",
        "\n",
        "#### Một phép biến đổi dữ liệu của $x_i$ và $y_i$ (như việc lấy logarit) sẽ thay đổi cách diễn giải của tham số độ dốc $\\beta$.\n",
        "\n",
        "(a) Chứng minh rằng trong mô hình hồi quy $\\log(y_i) = \\alpha + \\beta \\log(x_i) + \\varepsilon_i$, độ co giãn (elasticity) của $y$ đối với $x$ bằng $\\beta$ (tức là, không phụ thuộc vào giá trị của $x_i$ và $y_i$).\n",
        "\n",
        "(b) Xác định độ co giãn của $y$ đối với $x$ trong mô hình $y_i = \\alpha + \\beta \\log(x_i) + \\varepsilon_i$.\n",
        "\n",
        "(c) Xác định độ co giãn của $y$ đối với $x$ trong mô hình $\\log(y_i) = \\alpha + \\beta x_i + \\varepsilon_i$.\n",
        "\n",
        "**Lưu ý**:\n",
        "Như trong phần lớn các môn học, `log` viết tắt cho `logarit` tự nhiên, với cơ số $e \\approx 2.71828$. Trên máy tính, thường được viết là $\\ln(x)$, nhưng chúng ta sử dụng ký hiệu $\\log(x)$. Đạo hàm của $\\log(x)$, với cơ số $e$, là $1/x$.\n",
        "\n",
        "#### Công thức tính độ co giãn:\n",
        "$$\n",
        "\\text{elasticity} = \\frac{\\partial y_i}{\\partial x_i} \\times \\frac{x_i}{y_i}\n",
        "$$\n",
        "Trong đó:\n",
        "- $\\frac{\\partial y_i}{\\partial x_i}$ là đạo hàm của $y_i$ theo $x_i$, biểu thị sự thay đổi của $y$ khi $x$ thay đổi.\n",
        "- $\\frac{x_i}{y_i}$ là tỷ lệ của $x_i$ với $y_i$.\n",
        "\n",
        "#### Ví dụ về độ co giãn:\n",
        "- $x_i = 20$ (nghìn đồng), $y_i = 500$ (triệu đồng)\n",
        "- $\\frac{\\partial y_i}{\\partial x_i} = -10$ (doanh thu giảm 10 triệu đồng khi giá tăng 1 nghìn đồng)\n",
        "\n",
        "Tính độ co giãn:\n",
        "\n",
        "$$\n",
        "\\text{elasticity} = \\frac{\\partial y_i}{\\partial x_i} \\times \\frac{x_i}{y_i} = -10 \\times \\frac{20}{500} = -0.4\n",
        "$$\n",
        "\n",
        "Kết quả: Độ co giãn là $-0.4$, nghĩa là khi giá tăng 1%, doanh thu giảm 0.4%."
      ]
    },
    {
      "cell_type": "markdown",
      "source": [
        "**Câu a**  \n",
        "Đạo hàm của y theo x. Từ phương trình hồi quy, ta có:  \n",
        "log(yi) = α + β log(xi) + εi  \n",
        "\n",
        "Khử logarit hai vế, ta được:  \n",
        "yi = e^(α + β log(xi) + εi)\n",
        "\n",
        "Sử dụng quy tắc đạo hàm của hàm hợp, ta tính đạo hàm của yi theo xi:\n",
        "\n",
        "dyi/dxi = β * e^(α + β log(xi) + εi) / xi\n",
        "\n",
        "**Chứng minh:**  \n",
        "Elasticity = (dyi/dxi) * (xi/yi)  \n",
        "\n",
        "Thay giá trị của dyi/dxi vào công thức trên, ta có:\n",
        "\n",
        "Elasticity = (β * e^(α + β log(xi) + εi) / xi) * (xi / e^(α + β log(xi) + εi))\n",
        "\n",
        "Rút gọn biểu thức, ta được:\n",
        "\n",
        "Elasticity = β"
      ],
      "metadata": {
        "id": "09PsTK9LgOte"
      },
      "id": "09PsTK9LgOte"
    },
    {
      "cell_type": "markdown",
      "source": [
        "**Câu b**  \n",
        "Elasticity = (dyi/dxi) * (xi/yi)\n",
        "\n",
        "Thay giá trị của dyi/dxi ở câu a vào công thức trên, ta có:\n",
        "\n",
        "Elasticity = (β * e^(α + β log(xi) + εi) / xi) * (xi / e^(α + β log(xi) + εi))\n",
        "\n",
        "Rút gọn biểu thức, ta được:\n",
        "\n",
        "Elasticity = β\n",
        "\n",
        "Độ co giãn của y đối với x trong mô hình yi = α + β log(xi) + εi bằng β / yi."
      ],
      "metadata": {
        "id": "Ngw3OpS5hvJ9"
      },
      "id": "Ngw3OpS5hvJ9"
    },
    {
      "cell_type": "markdown",
      "source": [
        "**Câu c**\n",
        "\n",
        "Elasticity = (dyi/dxi) * (xi/yi)\n",
        "\n",
        "Thay giá trị của dyi/dxi vào công thức trên, ta có:\n",
        "\n",
        "Elasticity = (β * e^(α + βxi + εi)) * (xi / e^(α + βxi + εi))\n",
        "\n",
        "Rút gọn biểu thức, ta được:\n",
        "\n",
        "Elasticity = βxi\n",
        "\n",
        "Độ co giãn của y đối với x trong mô hình log(yi) = α + βxi + εi bằng βxi."
      ],
      "metadata": {
        "id": "tAj-YkpEi25v"
      },
      "id": "tAj-YkpEi25v"
    },
    {
      "cell_type": "code",
      "execution_count": null,
      "id": "da58b2ce-2ce7-4a9f-8246-a149ab466fe6",
      "metadata": {
        "id": "da58b2ce-2ce7-4a9f-8246-a149ab466fe6",
        "outputId": "3c254eb9-85a6-4b80-ca14-db5cbe8f3cbb",
        "colab": {
          "base_uri": "https://localhost:8080/"
        }
      },
      "outputs": [
        {
          "output_type": "stream",
          "name": "stdout",
          "text": [
            " Game  Year  Winning time men\n",
            "    1  1948             10.30\n",
            "    2  1952             10.40\n",
            "    3  1956             10.50\n",
            "    4  1960             10.20\n",
            "    5  1964             10.00\n",
            "    6  1968              9.95\n",
            "    7  1972             10.14\n",
            "    8  1976             10.06\n",
            "    9  1980             10.25\n",
            "   10  1984              9.99\n",
            "   11  1988              9.92\n",
            "   12  1992              9.96\n",
            "   13  1996              9.84\n",
            "   14  2000              9.87\n",
            "   15  2004              9.85\n"
          ]
        }
      ],
      "source": [
        "# Thời gian về đích ở nội dung điền kinh 100 mét dành cho nam tại Thế vận hội Olympic từ 1948-2004.\n",
        "# Game: số thứ tự của kỳ Thế vận hội (1-15)\n",
        "# Year: năm diễn ra Thế vận hội Olympic (1948-2004)\n",
        "# Winning time men: thời gian về đích ở nội dung điền kinh 100 mét dành cho nam (tính bằng giây)\n",
        "df_2 = pd.DataFrame({\n",
        "    \"Game\": list(range(1, 16)),\n",
        "    \"Year\": [1948, 1952, 1956, 1960, 1964, 1968, 1972, 1976, 1980, 1984, 1988, 1992, 1996, 2000, 2004],\n",
        "    \"Winning time men\": [10.3, 10.4, 10.5, 10.2, 10.0, 9.95, 10.14, 10.06, 10.25, 9.99, 9.92, 9.96, 9.84, 9.87, 9.85]\n",
        "})\n",
        "print(df_2.to_string(index=False))"
      ]
    },
    {
      "cell_type": "markdown",
      "id": "d0bfe457-60b0-46a5-ac2a-7ce94cc68c93",
      "metadata": {
        "id": "d0bfe457-60b0-46a5-ac2a-7ce94cc68c93"
      },
      "source": [
        "#### Bài tập 3:\n",
        "\n",
        "#### Bộ dữ liệu `df_2` chứa thời gian về đích ở nội dung điền kinh 100 mét dành cho nam tại Thế vận hội Olympic từ năm 1948 đến 2004. Các năm từ 1948-2004 được chuyển đổi thành số thứ tự của kỳ Thế vận hội (Game) từ 1 đến 15 để đơn giản hóa việc tính toán. Một mô hình hồi quy đơn giản cho xu hướng trong thời gian về đích được thể hiện bằng: $W_i = \\alpha + \\beta G_i + \\varepsilon_i$, trong đó $W_i$ là \"thời gian về đích\" và $G_i$ là số thứ tự của kỳ Thế vận hội.\n",
        "\n",
        "(a) Tính toán $a$ và $b$ (hệ số hồi quy), và xác định giá trị của $R^2$ và $s$ (độ lệch chuẩn của sai số).\n",
        "\n",
        "(b) Bạn có tự tin vào khả năng dự đoán của mô hình này không? Hãy giải thích lý do.\n",
        "\n",
        "(c) Dự đoán thời gian về đích cho các năm 2008, 2012, và 2016. So sánh dự đoán của bạn với thời gian về đích thực tế nếu có."
      ]
    },
    {
      "cell_type": "markdown",
      "source": [
        "**Câu a**"
      ],
      "metadata": {
        "id": "nAfkUbcipih8"
      },
      "id": "nAfkUbcipih8"
    },
    {
      "cell_type": "code",
      "execution_count": null,
      "id": "aa3a4d2f-c4cc-4ed8-bad3-3cfd92ef000d",
      "metadata": {
        "id": "aa3a4d2f-c4cc-4ed8-bad3-3cfd92ef000d",
        "colab": {
          "base_uri": "https://localhost:8080/"
        },
        "outputId": "7f93e53a-8879-4e51-91b9-2c353fdc00ee"
      },
      "outputs": [
        {
          "output_type": "execute_result",
          "data": {
            "text/plain": [
              "(10.386000000000005,\n",
              " -0.03799999999999992,\n",
              " 0.6733728599027389,\n",
              " 0.11835781101630517)"
            ]
          },
          "metadata": {},
          "execution_count": 4
        }
      ],
      "source": [
        "import statsmodels.api as sm\n",
        "\n",
        "# Tính toán hồi quy tuyến tính\n",
        "X = df_2[\"Game\"]\n",
        "X = sm.add_constant(X)  # Thêm hằng số cho mô hình hồi quy\n",
        "y = df_2[\"Winning time men\"]\n",
        "model = sm.OLS(y, X).fit()\n",
        "\n",
        "# Trích xuất hệ số hồi quy, R^2, và độ lệch chuẩn của sai số\n",
        "a, b = model.params\n",
        "R2 = model.rsquared\n",
        "s = model.resid.std()\n",
        "\n",
        "a, b, R2, s\n"
      ]
    },
    {
      "cell_type": "markdown",
      "source": [
        "**Câu b**\n",
        "\n",
        "Mô hình cho thấy một xu hướng giảm dần trong thời gian về đích, nhưng mức độ giải thích của mô hình chưa đủ cao để khẳng định rằng mô hình có khả năng dự đoán mạnh mẽ.\n",
        "\n",
        "Đánh giá dựa trên một số yếu tố:\n",
        "\n",
        "* R² (hệ số xác định): R² = 0.6734 cho thấy mô hình chỉ giải thích được 67.34% sự biến thiên trong thời gian về đích. Điều này có nghĩa là khoảng 32.66% sự biến thiên không được giải thích bởi số thứ tự của kỳ Thế vận hội và có thể do các yếu tố khác không được đưa vào mô hình, như điều kiện thời tiết, sự tiến bộ trong công nghệ thể thao, hoặc những thay đổi trong kỹ thuật huấn luyện.\n",
        "\n",
        "* Độ lệch chuẩn của sai số (s): Độ lệch chuẩn của sai số là 0.1184 giây, một con số không quá lớn nhưng cũng cho thấy rằng dự đoán từ mô hình có thể không hoàn toàn chính xác. Trong môn điền kinh 100 mét, sự khác biệt nhỏ có thể là đáng kể khi đánh giá thành tích vận động viên."
      ],
      "metadata": {
        "id": "0ScGDI1PqHlA"
      },
      "id": "0ScGDI1PqHlA"
    },
    {
      "cell_type": "markdown",
      "source": [
        "**Câu c**"
      ],
      "metadata": {
        "id": "Ld0xLkeQrTNM"
      },
      "id": "Ld0xLkeQrTNM"
    },
    {
      "cell_type": "code",
      "source": [
        "# Sử dụng mô hình để dự đoán thời gian về đích cho các năm 2008, 2012, và 2016\n",
        "# Tính số thứ tự của kỳ Thế vận hội tương ứng\n",
        "games_to_predict = [16, 17, 18]  # 2008 -> 16th, 2012 -> 17th, 2016 -> 18th\n",
        "predicted_times = a + b * pd.Series(games_to_predict)\n",
        "\n",
        "# Thời gian về đích thực tế\n",
        "actual_times = {\n",
        "    2008: 9.69,  # Usain Bolt, 2008\n",
        "    2012: 9.63,  # Usain Bolt, 2012\n",
        "    2016: 9.81   # Usain Bolt, 2016\n",
        "}\n",
        "\n",
        "predicted_times.tolist(), actual_times"
      ],
      "metadata": {
        "colab": {
          "base_uri": "https://localhost:8080/"
        },
        "id": "NM6kho4WqJ5P",
        "outputId": "29f46e04-f179-4ff2-8708-3a7592c215ca"
      },
      "id": "NM6kho4WqJ5P",
      "execution_count": null,
      "outputs": [
        {
          "output_type": "execute_result",
          "data": {
            "text/plain": [
              "([9.778000000000006, 9.740000000000006, 9.702000000000005],\n",
              " {2008: 9.69, 2012: 9.63, 2016: 9.81})"
            ]
          },
          "metadata": {},
          "execution_count": 5
        }
      ]
    },
    {
      "cell_type": "markdown",
      "source": [
        "Thời gian về đích thực tế:\n",
        "\n",
        "2008: 9.69 giây (Usain Bolt)\n",
        "\n",
        "2012: 9.63 giây (Usain Bolt)\n",
        "\n",
        "2016: 9.81 giây (Usain Bolt)\n",
        "\n",
        "So sánh\n",
        "\n",
        "2008: Dự đoán là 9.778 giây, cao hơn thời gian thực tế là 9.69 giây.Sai lệch: 0.088 giây.\n",
        "\n",
        "2012: Dự đoán là 9.74 giây, cao hơn thời gian thực tế là 9.63 giây. Sai lệch: 0.11 giây.\n",
        "\n",
        "2016: Dự đoán là 9.702 giây, thấp hơn thời gian thực tế là 9.81 giây. Sai lệch: 0.108 giây."
      ],
      "metadata": {
        "id": "fCIqVdq8sIq6"
      },
      "id": "fCIqVdq8sIq6"
    },
    {
      "cell_type": "markdown",
      "id": "93716566-5c9d-45f6-811c-79b8c5f31502",
      "metadata": {
        "id": "93716566-5c9d-45f6-811c-79b8c5f31502"
      },
      "source": [
        "#### Bài tập 4:\n",
        "\n",
        "#### Xét tình huống biến số $x$ được quan sát với sai số đo lường (measurement error), điều này khá phổ biến đối với các biến kinh tế vĩ mô phức tạp như thu nhập quốc dân.\n",
        "\n",
        "#### Giả sử $x^*$ là biến kinh tế thực sự nhưng không được quan sát, và quá trình tạo dữ liệu được cho bởi $y_i = \\alpha + \\beta x_i^* + \\varepsilon_i^*$, trong đó $x_i^*$ và $\\varepsilon_i^*$ không tương quan.\n",
        "\n",
        "#### Các giá trị $x$ quan sát được là $x_i = x_i^* + v_i$, với sai số đo lường $v_i$ không tương quan với $x_i^*$ và $\\varepsilon_i^*$. Tỷ lệ tín hiệu trên nhiễu (signal-to-noise ratio) được định nghĩa là $SN = \\frac{\\sigma_{x^*}^2}{\\sigma_v^2}$, trong đó $\\sigma_{x^*}^2$ là phương sai (variance) của $x^*$ và $\\sigma_v^2$ là phương sai của $v$.\n",
        "\n",
        "#### Mô hình hồi quy ước lượng là $y_i = \\alpha + \\beta x_i + \\varepsilon_i$, và chúng ta xem xét ước lượng bình phương tối thiểu $b$ của $\\beta$ ($b$ là ước lượng, $\\beta$ là hệ số thực).\n",
        "\n",
        "(a) Bạn có nghĩ rằng giá trị của $b$ phụ thuộc vào phương sai của sai số đo lường không? Tại sao?\n",
        "\n",
        "(b) Chứng minh rằng $b = \\beta + \\frac{\\sum_{i=1}^{n}(x_i - \\bar{x})(\\varepsilon_i - \\bar{\\varepsilon})}{\\sum_{i=1}^{n}(x_i - \\bar{x})^2}$.\n",
        "\n",
        "(c) Chứng minh rằng $\\varepsilon_i = \\varepsilon_i^* - \\beta v_i$.\n",
        "\n",
        "(d) Chứng minh rằng hiệp phương sai (covariance) giữa $x_i$ và $\\varepsilon_i$ bằng $- \\beta \\sigma_v^2$.\n",
        "\n",
        "(e) Chứng minh rằng với cỡ mẫu lớn $n$, ta có $b - \\beta \\approx - \\beta \\frac{\\sigma_v^2}{\\sigma_{x^*}^2 + \\sigma_v^2}$.\n",
        "\n",
        "(f) Tính xấp xỉ độ chệch (bias) $b - \\beta$ cho $\\beta = 1$ trong các trường hợp $SN = 1$, $SN = 3$, và $SN = 10$."
      ]
    },
    {
      "cell_type": "markdown",
      "source": [
        "**Câu a**\n",
        "\n",
        "Đúng. Vì giá trị của b sẽ phụ thuộc vào phương sai của sai số đo lường (σv²). Khi phương sai của sai số đo lường càng lớn, nghĩa là độ chính xác của biến x quan sát được càng thấp, điều này sẽ làm giảm độ tin cậy của ước lượng b. Nếu sai số đo lường lớn, chúng ta sẽ khó phân biệt được ảnh hưởng thực sự của x* lên y so với ảnh hưởng của sai số v.\n",
        "\n",
        "**Câu b**\n",
        "\n",
        "Thay xi* bằng xi - vi, ta có:\n",
        "\n",
        "yi = α + β(xi - vi) + εi\n",
        "\n",
        "yi = α + βxi - βvi + εi\n",
        "\n",
        "\n",
        "Đặt ui = βvi + εi -> Mô hình trở thành:\n",
        "\n",
        "yi = α + βxi + ui\n",
        "\n",
        "\n",
        "Ước lượng bằng phương pháp bình phương tối thiểu:\n",
        "\n",
        "Giá trị của b sao cho tổng bình phương các sai số (residuals) là nhỏ nhất.\n",
        "\n",
        "Sai số: ui = yi - (α + βxi).\n",
        "\n",
        "Tổng bình phương các sai số là: SSR = Σui² = Σ(yi - α - βxi)²\n",
        "\n",
        "\n",
        "Giá trị của b làm cho SSR nhỏ nhất -> đạo hàm một phần của SSR theo b và cho bằng 0: ∂SSR/∂b = -2Σxi(yi - α - βxi) = 0\n",
        "\n",
        "Từ phương trình trên, ta có: Σxiyi - αΣxi - βΣxi² = 0\n",
        "\n",
        "Chia cả hai vế cho Σ(xi-x̄)²:\n",
        "\n",
        "Σ(xi-x̄)(yi-ȳ) / Σ(xi-x̄)² = β + Σ(xi-x̄)ui / Σ(xi-x̄)²\n",
        "\n",
        "Thay ui bằng βvi + εi:\n",
        "\n",
        "β + Σ(xi-x̄)ui / Σ(xi-x̄)² = β + Σ(xi-x̄)(βvi + εi) / Σ(xi-x̄)²\n",
        "\n",
        "= β + βΣ(xi-x̄)vi / Σ(xi-x̄)² + Σ(xi-x̄)εi / Σ(xi-x̄)²\n",
        "\n",
        "= β + Σ(xi-x̄)εi / Σ(xi-x̄)²  \n",
        "(vì Σ(xi-x̄)vi = 0, do vi là sai số có trung bình bằng 0)\n",
        "\n",
        "**Câu d**\n",
        "\n",
        "Mô hình hồi quy:\n",
        "\n",
        "yi = α + βxi* + εi\n",
        "\n",
        "xi* là giá trị thực của biến giải thích\n",
        "\n",
        "xi = xi* + vi là giá trị quan sát được của biến giải thích (với vi là sai số đo lường)\n",
        "\n",
        "ui = βvi + εi\n",
        "\n",
        "Tính hiệp phương sai:\n",
        "\n",
        "Cov(xi, εi) = E[(xi - E(xi))(εi - E(εi))]\n",
        "\n",
        "Vì E(εi) = 0, nên ta có:\n",
        "\n",
        "Cov(xi, εi) = E[xiεi]\n",
        "\n",
        "Thay xi = xi* + vi vào, ta được:\n",
        "\n",
        "Cov(xi, εi) = E[(xi* + vi)εi] = E(xi*εi) + E(viεi)\n",
        "\n",
        "Phân tích từng thành phần:\n",
        "\n",
        "* Vì xi là giá trị thực và không phụ thuộc vào sai số ngẫu nhiên εi, nên E(xiεi) = xiE(εi) = 0.\n",
        "\n",
        "* Ta có: E(viεi) = E(vi(ui - βvi))\n",
        "\n",
        "= E(viui) - βE(vi²) = Cov(vi, ui) - βVar(vi)\n",
        "\n",
        "= Cov(vi, βvi + εi) - βσv² = βCov(vi, vi) + Cov(vi, εi) - βσv²\n",
        "\n",
        "= βσv² + 0 - βσv² (vì vi và εi không tương quan) = 0\n",
        "\n",
        "Vậy Cov(xi, εi) = 0 + 0 - βσv² = -βσv².\n",
        "\n",
        "\n"
      ],
      "metadata": {
        "id": "EqAXh6X3xR2j"
      },
      "id": "EqAXh6X3xR2j"
    },
    {
      "cell_type": "code",
      "execution_count": null,
      "id": "e0f7726a-fcaa-40b1-9835-b4da0b86ab63",
      "metadata": {
        "id": "e0f7726a-fcaa-40b1-9835-b4da0b86ab63",
        "outputId": "93a16ca3-873e-42b1-c29b-196dccd7c350"
      },
      "outputs": [
        {
          "name": "stdout",
          "output_type": "stream",
          "text": [
            " Game  Year  Winning time men  Winning time women\n",
            "    1  1948             10.30               11.90\n",
            "    2  1952             10.40               11.50\n",
            "    3  1956             10.50               11.50\n",
            "    4  1960             10.20               11.00\n",
            "    5  1964             10.00               11.40\n",
            "    6  1968              9.95               11.08\n",
            "    7  1972             10.14               11.07\n",
            "    8  1976             10.06               11.08\n",
            "    9  1980             10.25               11.06\n",
            "   10  1984              9.99               10.97\n",
            "   11  1988              9.92               10.54\n",
            "   12  1992              9.96               10.82\n",
            "   13  1996              9.84               10.94\n",
            "   14  2000              9.87               10.75\n",
            "   15  2004              9.85               10.93\n"
          ]
        }
      ],
      "source": [
        "# Thời gian về đích ở nội dung điền kinh 100 mét dành cho nam và nữ tại Thế vận hội Olympic từ 1948-2004.\n",
        "# Game: số thứ tự của kỳ Thế vận hội (1-15)\n",
        "# Year: năm diễn ra Thế vận hội Olympic (1948-2004)\n",
        "# Winning time men: thời gian về đích ở nội dung điền kinh 100 mét dành cho nam (tính bằng giây)\n",
        "# Winning time women: thời gian về đích ở nội dung điền kinh 100 mét dành cho nữ (tính bằng giây)\n",
        "df_3 = pd.DataFrame({\n",
        "    \"Game\": list(range(1, 16)),\n",
        "    \"Year\": [1948, 1952, 1956, 1960, 1964, 1968, 1972, 1976, 1980, 1984, 1988, 1992, 1996, 2000, 2004],\n",
        "    \"Winning time men\": [10.3, 10.4, 10.5, 10.2, 10.0, 9.95, 10.14, 10.06, 10.25, 9.99, 9.92, 9.96, 9.84, 9.87, 9.85],\n",
        "    \"Winning time women\": [11.9, 11.5, 11.5, 11.0, 11.4, 11.08, 11.07, 11.08, 11.06, 10.97, 10.54, 10.82, 10.94, 10.75, 10.93]\n",
        "})\n",
        "print(df_3.to_string(index=False))"
      ]
    },
    {
      "cell_type": "markdown",
      "id": "a117e3c5-0b1b-4872-8bf0-9a2220d7e73a",
      "metadata": {
        "id": "a117e3c5-0b1b-4872-8bf0-9a2220d7e73a"
      },
      "source": [
        "#### Bài tập 5:\n",
        "\n",
        "#### Bộ dữ liệu `df_3` chứa thời gian về đích ở nội dung điền kinh 100 mét dành cho nam và nữ tại Thế vận hội Olympic từ năm 1948 đến 2004. Dữ liệu bao gồm thời gian về đích của các vận động viên qua các kỳ Thế vận hội (1-15) trong giai đoạn này.\n",
        "\n",
        "(a) Sử dụng một mô hình hồi quy tuyến tính với công thức $y_{\\text{men}} = a_1 \\times \\text{Year} + b_1$ cho nam và $y_{\\text{women}} = a_2 \\times \\text{Year} + b_2$ cho nữ. Dự đoán khi nào thời gian về đích của nam và nữ sẽ bằng nhau. Chứng minh rằng mô hình dự đoán thời gian về đích bằng nhau vào khoảng năm 2140.\n",
        "\n",
        "(b) Sử dụng một mô hình hồi quy phi tuyến với hàm `log` theo công thức $\\log(y_{\\text{men}}) = a_3 \\times \\text{Year} + b_3$ cho nam và $\\log(y_{\\text{women}}) = a_4 \\times \\text{Year} + b_4$ cho nữ. Dự đoán khi nào thời gian về đích của nam và nữ sẽ bằng nhau. Chứng minh rằng mô hình này dự đoán thời gian bằng nhau vào khoảng năm 2192.\n",
        "\n",
        "(c) Chứng minh rằng mô hình hồi quy tuyến tính dự đoán thời gian về đích bằng nhau ở mức xấp xỉ 8.53 giây.\n",
        "\n",
        "(d) Đưa ra nhận xét về những kết quả này và mô hình hồi quy được sử dụng. Bạn có nghĩ rằng dự đoán của các mô hình này đáng tin cậy cho tương lai xa không? Tại sao?"
      ]
    },
    {
      "cell_type": "code",
      "execution_count": null,
      "id": "a87d1bc0-129c-4402-a7c5-be437aa6feac",
      "metadata": {
        "id": "a87d1bc0-129c-4402-a7c5-be437aa6feac"
      },
      "outputs": [],
      "source": []
    }
  ],
  "metadata": {
    "kernelspec": {
      "display_name": "Python 3 (ipykernel)",
      "language": "python",
      "name": "python3"
    },
    "language_info": {
      "codemirror_mode": {
        "name": "ipython",
        "version": 3
      },
      "file_extension": ".py",
      "mimetype": "text/x-python",
      "name": "python",
      "nbconvert_exporter": "python",
      "pygments_lexer": "ipython3",
      "version": "3.12.4"
    },
    "colab": {
      "provenance": [],
      "toc_visible": true,
      "include_colab_link": true
    }
  },
  "nbformat": 4,
  "nbformat_minor": 5
}